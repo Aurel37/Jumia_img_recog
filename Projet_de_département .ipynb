{
 "cells": [
  {
   "cell_type": "code",
   "execution_count": 1,
   "metadata": {},
   "outputs": [
    {
     "name": "stderr",
     "output_type": "stream",
     "text": [
      "Using TensorFlow backend.\n"
     ]
    }
   ],
   "source": [
    "import pandas as pd\n",
    "import numpy as np\n",
    "import keras\n",
    "import matplotlib.pyplot as plt\n",
    "import matplotlib.image as mpimg\n",
    "import h5py\n",
    "import cv2\n",
    "from scipy.spatial import distance"
   ]
  },
  {
   "cell_type": "code",
   "execution_count": 2,
   "metadata": {},
   "outputs": [],
   "source": [
    "from keras.layers import Flatten, Dense, Input,concatenate\n",
    "from keras.layers import Conv2D, MaxPooling2D\n",
    "from keras.layers import Activation, Dropout\n",
    "from keras.models import Model\n",
    "from keras.models import Sequential\n",
    "import tensorflow as tf"
   ]
  },
  {
   "cell_type": "code",
   "execution_count": 9,
   "metadata": {},
   "outputs": [],
   "source": [
    "from os import listdir"
   ]
  },
  {
   "cell_type": "code",
   "execution_count": 59,
   "metadata": {},
   "outputs": [],
   "source": [
    "def vector_feature(img, basemodel):\n",
    "    img1 = cv2.resize(img, (224, 224))\n",
    "    feature_vector = basemodel.predict(img1.reshape(1, 224, 224, 3))\n",
    "    return feature_vector"
   ]
  },
  {
   "cell_type": "code",
   "execution_count": 11,
   "metadata": {},
   "outputs": [],
   "source": [
    "def cosine_simil(vector1, vector2):\n",
    "    return 1 - distance.cosine(vector1, vector2)"
   ]
  },
  {
   "cell_type": "code",
   "execution_count": 45,
   "metadata": {},
   "outputs": [
    {
     "name": "stdout",
     "output_type": "stream",
     "text": [
      "Downloading data from https://github.com/fchollet/deep-learning-models/releases/download/v0.1/vgg19_weights_tf_dim_ordering_tf_kernels.h5\n",
      "574717952/574710816 [==============================] - 176s 0us/step\n"
     ]
    }
   ],
   "source": [
    "vgg16 = keras.applications.vgg16.VGG16(include_top=True, weights=\"imagenet\", input_shape=(224, 224, 3), pooling=\"max\")\n",
    "\n",
    "vgg19 = keras.applications.vgg19.VGG19(include_top=True, weights=\"imagenet\", input_shape=(224, 224, 3), pooling=\"max\")"
   ]
  },
  {
   "cell_type": "code",
   "execution_count": null,
   "metadata": {},
   "outputs": [],
   "source": [
    "def comparison(img_comparison, bib_val, network, layer, dist):#, network, distance, basemodel):\n",
    "     \n",
    "    n = len(img_comparison)\n",
    "    raw_val = [img for img in listdir(bib_val)]\n",
    "    pict_val = [cv2.imread(bib_val + \"/\" +pict) for pict in raw_val]\n",
    "    basemodel = Model(inputs = network.input, outputs = layer)\n",
    "\n",
    "    plt.figure(figsize = (20,30))\n",
    "    for i in range(n):\n",
    "        img_comp = cv2.imread(img_comparison[i])\n",
    "        vect_ini = vector_feature(img_comp, basemodel)\n",
    "        Y_dist = []\n",
    "        for j in pict_val:\n",
    "            vect_comp = vector_feature(j, basemodel)\n",
    "            Y_dist.append(dist(vect_comp, vect_ini))\n",
    "        plt.subplot(n, 2, i+1)\n",
    "        plt.plot(raw_val, Y_dist, \"r*\")\n",
    "        plt.title(\"Cosine similarity, \" + str(img_comparison[i]))\n",
    "    plt.show()\n",
    "\n",
    "\n",
    "#vgg16\n",
    " \n",
    "comparison([\"phone/blanc.png\", \"phone/blanc_tournee.png\", \"phone/pantalon.png\", \"phone/polo_rose.png\", \"phone/blanc_homme.png\"], \"blanc_jumia\", vgg16, vgg16.get_layer(\"fc2\").output, cosine_simil)\n",
    "\n",
    "#vgg19\n",
    "\n",
    "comparison([\"phone/blanc.png\", \"phone/blanc_tournee.png\", \"phone/pantalon.png\", \"phone/polo_rose.png\", \"phone/blanc_homme.png\"], \"blanc_jumia\", vgg19, vgg19.get_layer(\"fc2\").output, cosine_simil)"
   ]
  },
  {
   "cell_type": "code",
   "execution_count": null,
   "metadata": {},
   "outputs": [],
   "source": []
  },
  {
   "cell_type": "code",
   "execution_count": null,
   "metadata": {},
   "outputs": [],
   "source": []
  }
 ],
 "metadata": {
  "kernelspec": {
   "display_name": "Python 3",
   "language": "python",
   "name": "python3"
  },
  "language_info": {
   "codemirror_mode": {
    "name": "ipython",
    "version": 3
   },
   "file_extension": ".py",
   "mimetype": "text/x-python",
   "name": "python",
   "nbconvert_exporter": "python",
   "pygments_lexer": "ipython3",
   "version": "3.7.4"
  }
 },
 "nbformat": 4,
 "nbformat_minor": 2
}
