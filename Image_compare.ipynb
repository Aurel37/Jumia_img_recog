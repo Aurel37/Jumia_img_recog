{
 "cells": [
  {
   "cell_type": "code",
   "execution_count": 1,
   "metadata": {},
   "outputs": [
    {
     "name": "stderr",
     "output_type": "stream",
     "text": [
      "Using TensorFlow backend.\n"
     ]
    }
   ],
   "source": [
    "from __future__ import absolute_import\n",
    "from utils.compare import get_pict\n",
    "from utils.reframe import zoomclass\n",
    "from CNN.network import *\n",
    "import numpy as np\n",
    "import matplotlib.pyplot as plt\n",
    "import cv2\n",
    "import os\n",
    "import pandas as pd"
   ]
  },
  {
   "cell_type": "code",
   "execution_count": 2,
   "metadata": {},
   "outputs": [],
   "source": [
    "data = pd.read_csv('sample_tshirts_kenya.csv')\n",
    "\n",
    "url = data['dsc_image_url'].to_numpy()"
   ]
  },
  {
   "cell_type": "code",
   "execution_count": 4,
   "metadata": {},
   "outputs": [
    {
     "name": "stdout",
     "output_type": "stream",
     "text": [
      "WARNING:tensorflow:Inconsistent references when loading the checkpoint into this object graph. Either the Trackable object references in the Python program have changed in an incompatible way, or the checkpoint was generated in an incompatible program.\n",
      "\n",
      "Two checkpoint references resolved to different objects (<tensorflow.python.keras.layers.convolutional.Conv2D object at 0x15092a510> and <tensorflow.python.keras.engine.input_layer.InputLayer object at 0x15095a090>).\n",
      "WARNING:tensorflow:Inconsistent references when loading the checkpoint into this object graph. Either the Trackable object references in the Python program have changed in an incompatible way, or the checkpoint was generated in an incompatible program.\n",
      "\n",
      "Two checkpoint references resolved to different objects (<tensorflow.python.keras.layers.convolutional.Conv2D object at 0x15099da10> and <tensorflow.python.keras.layers.pooling.MaxPooling2D object at 0x15095a910>).\n",
      "WARNING:tensorflow:Inconsistent references when loading the checkpoint into this object graph. Either the Trackable object references in the Python program have changed in an incompatible way, or the checkpoint was generated in an incompatible program.\n",
      "\n",
      "Two checkpoint references resolved to different objects (<tensorflow.python.keras.layers.convolutional.Conv2D object at 0x1509ef050> and <tensorflow.python.keras.layers.pooling.MaxPooling2D object at 0x1509ad650>).\n",
      "WARNING:tensorflow:Inconsistent references when loading the checkpoint into this object graph. Either the Trackable object references in the Python program have changed in an incompatible way, or the checkpoint was generated in an incompatible program.\n",
      "\n",
      "Two checkpoint references resolved to different objects (<tensorflow.python.keras.layers.core.Dense object at 0x1509f97d0> and <tensorflow.python.keras.layers.core.Flatten object at 0x1509ef250>).\n",
      "WARNING:tensorflow:Inconsistent references when loading the checkpoint into this object graph. Either the Trackable object references in the Python program have changed in an incompatible way, or the checkpoint was generated in an incompatible program.\n",
      "\n",
      "Two checkpoint references resolved to different objects (<tensorflow.python.keras.layers.core.Dense object at 0x1509f9f10> and <tensorflow.python.keras.layers.core.Dropout object at 0x15099d290>).\n",
      "WARNING:tensorflow:Inconsistent references when loading the checkpoint into this object graph. Either the Trackable object references in the Python program have changed in an incompatible way, or the checkpoint was generated in an incompatible program.\n",
      "\n",
      "Two checkpoint references resolved to different objects (<tensorflow.python.keras.layers.core.Dense object at 0x150a43250> and <tensorflow.python.keras.layers.core.Dropout object at 0x150a03490>).\n",
      "There is no t-shirt in the input picture\n"
     ]
    }
   ],
   "source": [
    "img = cv2.imread('test_yolo/test1.png')\n",
    "config = \"yolo-coco/yolov3-spp.cfg\"\n",
    "weights = \"yolo-coco/t_shirt.weights\"\n",
    "label = \"yolo-coco/t_shirt.names\"\n",
    "#print(zoomclass('t_shirt', img))\n",
    "img_compare = get_pict('test/try.png', url)\n",
    "\n",
    "\n",
    "img_compare.compare(Model, vgg19, vgg19.get_layer(\"fc2\").output, cosine_simil, 0.96)\n",
    "img_compare.display()"
   ]
  },
  {
   "cell_type": "code",
   "execution_count": null,
   "metadata": {},
   "outputs": [],
   "source": [
    "img_compare = get_pict('test/maillot_milanac.jpg', url)\n",
    "\n",
    "img_compare.compare(Model, vgg19, vgg19.get_layer(\"fc2\").output, cosine_simil, 0.97)\n",
    "img_compare.display()"
   ]
  },
  {
   "cell_type": "code",
   "execution_count": null,
   "metadata": {},
   "outputs": [],
   "source": [
    "img_compare = get_pict('test/polo.jpg', url)\n",
    "\n",
    "img_compare.compare(Model, vgg19, vgg19.get_layer(\"fc2\").output, cosine_simil, 0.97)\n",
    "img_compare.display()"
   ]
  },
  {
   "cell_type": "code",
   "execution_count": null,
   "metadata": {},
   "outputs": [],
   "source": []
  }
 ],
 "metadata": {
  "kernelspec": {
   "display_name": "Python 3",
   "language": "python",
   "name": "python3"
  },
  "language_info": {
   "codemirror_mode": {
    "name": "ipython",
    "version": 3
   },
   "file_extension": ".py",
   "mimetype": "text/x-python",
   "name": "python",
   "nbconvert_exporter": "python",
   "pygments_lexer": "ipython3",
   "version": "3.7.4"
  }
 },
 "nbformat": 4,
 "nbformat_minor": 2
}
